{
 "cells": [
  {
   "cell_type": "code",
   "execution_count": 8,
   "metadata": {
    "collapsed": false
   },
   "outputs": [],
   "source": [
    "# %load ./im2rec.py\n",
    "from __future__ import print_function\n",
    "import os\n",
    "import sys\n",
    "import random\n",
    "import argparse\n",
    "from skimage import io\n",
    "import time"
   ]
  },
  {
   "cell_type": "code",
   "execution_count": 9,
   "metadata": {
    "collapsed": true
   },
   "outputs": [],
   "source": [
    "def list_image(root, recursive, exts):\n",
    "    image_list = []\n",
    "    if recursive:\n",
    "        cat = {}\n",
    "        for path, subdirs, files in os.walk(root, followlinks=True):\n",
    "            subdirs.sort()\n",
    "            print(len(cat), path)\n",
    "            for fname in files:\n",
    "                fpath = os.path.join(path, fname)\n",
    "                suffix = os.path.splitext(fname)[1].lower()\n",
    "                if os.path.isfile(fpath) and (suffix in exts):\n",
    "                    if path not in cat:\n",
    "                        cat[path] = len(cat)\n",
    "                    yield (len(image_list), os.path.relpath(fpath, root), cat[path])\n",
    "    else:\n",
    "        for fname in os.listdir(root):\n",
    "            fpath = os.path.join(root, fname)\n",
    "            suffix = os.path.splitext(fname)[1].lower()\n",
    "            if os.path.isfile(fpath) and (suffix in exts):\n",
    "                yield (len(image_list), os.path.relpath(fpath, root), 0)"
   ]
  },
  {
   "cell_type": "code",
   "execution_count": 35,
   "metadata": {
    "collapsed": false
   },
   "outputs": [],
   "source": [
    "image_list = list_image('/D:/PPT/图片',recursive = True, exts=['.jpeg', '.jpg'])"
   ]
  },
  {
   "cell_type": "code",
   "execution_count": 36,
   "metadata": {
    "collapsed": true
   },
   "outputs": [],
   "source": [
    "for i in image_list:\n",
    "    print(next(i))"
   ]
  },
  {
   "cell_type": "code",
   "execution_count": 33,
   "metadata": {
    "collapsed": true
   },
   "outputs": [],
   "source": [
    "def write_list(path_out, image_list):\n",
    "    with open(path_out, 'w') as fout:\n",
    "        for i, item in enumerate(image_list):\n",
    "            line = '%d\\t' % item[0]\n",
    "            for j in item[2:]:\n",
    "                line += '%f\\t' % j\n",
    "            line += '%s\\n' % item[1]\n",
    "            fout.write(line)"
   ]
  },
  {
   "cell_type": "code",
   "execution_count": null,
   "metadata": {
    "collapsed": true
   },
   "outputs": [],
   "source": [
    "write_list(path_out = '/D:/PPT/图片', image_list)"
   ]
  },
  {
   "cell_type": "code",
   "execution_count": null,
   "metadata": {
    "collapsed": true
   },
   "outputs": [],
   "source": [
    "def make_list(args):\n",
    "    image_list = list_image(args.root, args.recursive, args.exts)\n",
    "    image_list = list(image_list)\n",
    "    if args.shuffle is True:\n",
    "        random.seed(100)\n",
    "        random.shuffle(image_list)\n",
    "    N = len(image_list)\n",
    "    chunk_size = (N + args.chunks - 1) / args.chunks\n",
    "    for i in xrange(args.chunks):\n",
    "        chunk = image_list[i * chunk_size:(i + 1) * chunk_size]\n",
    "        if args.chunks > 1:\n",
    "            str_chunk = '_%d' % i\n",
    "        else:\n",
    "            str_chunk = ''\n",
    "        sep = int(chunk_size * args.train_ratio)\n",
    "        sep_test = int(chunk_size * args.test_ratio)\n",
    "        write_list(args.prefix + str_chunk + '_test.lst', chunk[:sep_test])\n",
    "        write_list(args.prefix + str_chunk + '_train.lst', chunk[sep_test:sep_test + sep])\n",
    "        write_list(args.prefix + str_chunk + '_val.lst', chunk[sep_test + sep:])"
   ]
  },
  {
   "cell_type": "code",
   "execution_count": null,
   "metadata": {
    "collapsed": true
   },
   "outputs": [],
   "source": [
    "def read_list(path_in):\n",
    "    with open(path_in) as fin:\n",
    "        while True:\n",
    "            line = fin.readline()\n",
    "            if not line:\n",
    "                break\n",
    "            line = [i.strip() for i in line.strip().split('\\t')]\n",
    "            item = [int(line[0])] + [line[-1]] + [float(i) for i in line[1:-1]]\n",
    "            yield item"
   ]
  },
  {
   "cell_type": "code",
   "execution_count": null,
   "metadata": {
    "collapsed": true
   },
   "outputs": [],
   "source": [
    "def image_encode(args, item, q_out):\n",
    "    try:\n",
    "        img = cv2.imread(os.path.join(args.root, item[1]), args.color)\n",
    "    except:\n",
    "        print('imread error:', item[1])\n",
    "        return\n",
    "    if img is None:\n",
    "        print('read none error:', item[1])\n",
    "        return\n",
    "    if args.center_crop:\n",
    "        if img.shape[0] > img.shape[1]:\n",
    "            margin = (img.shape[0] - img.shape[1]) / 2;\n",
    "            img = img[margin:margin + img.shape[1], :]\n",
    "        else:\n",
    "            margin = (img.shape[1] - img.shape[0]) / 2;\n",
    "            img = img[:, margin:margin + img.shape[0]]\n",
    "    if args.resize:\n",
    "        if img.shape[0] > img.shape[1]:\n",
    "            newsize = (args.resize, img.shape[0] * args.resize / img.shape[1])\n",
    "        else:\n",
    "            newsize = (img.shape[1] * args.resize / img.shape[0], args.resize)\n",
    "        img = cv2.resize(img, newsize)\n",
    "    if len(item) > 3 and args.pack_label:\n",
    "        header = mx.recordio.IRHeader(0, item[2:], item[0], 0)\n",
    "    else:\n",
    "        header = mx.recordio.IRHeader(0, item[2], item[0], 0)\n",
    "\n",
    "    try:\n",
    "        s = mx.recordio.pack_img(header, img, quality=args.quality, img_fmt=args.encoding)\n",
    "        q_out.put((s, item))\n",
    "    except Exception, e:\n",
    "        print('pack_img error:', item[1], e)\n",
    "        return"
   ]
  },
  {
   "cell_type": "code",
   "execution_count": null,
   "metadata": {
    "collapsed": true
   },
   "outputs": [],
   "source": [
    "def read_worker(args, q_in, q_out):\n",
    "    while True:\n",
    "        item = q_in.get()\n",
    "        if item is None:\n",
    "            break\n",
    "        image_encode(args, item, q_out)"
   ]
  },
  {
   "cell_type": "code",
   "execution_count": null,
   "metadata": {
    "collapsed": true
   },
   "outputs": [],
   "source": [
    "def write_worker(q_out, fname, working_dir):\n",
    "    pre_time = time.time()\n",
    "    count = 0\n",
    "    fname_rec = os.path.basename(fname)\n",
    "    fname_rec = os.path.splitext(fname)[0] + '.rec'\n",
    "    fout = open(fname+'.tmp', 'w')\n",
    "    record = mx.recordio.MXRecordIO(os.path.join(working_dir, fname_rec), 'w')\n",
    "    while True:\n",
    "        deq = q_out.get()\n",
    "        if deq is None:\n",
    "            break\n",
    "        s, item = deq\n",
    "        record.write(s)\n",
    "\n",
    "        line = '%d\\t' % item[0]\n",
    "        for j in item[2:]:\n",
    "            line += '%f\\t' % j\n",
    "        line += '%s\\n' % item[1]\n",
    "        fout.write(line)\n",
    "\n",
    "        if count % 1000 == 0:\n",
    "            cur_time = time.time()\n",
    "            print('time:', cur_time - pre_time, ' count:', count)\n",
    "            pre_time = cur_time\n",
    "        count += 1\n",
    "    os.rename(fname+'.tmp', fname)"
   ]
  },
  {
   "cell_type": "code",
   "execution_count": null,
   "metadata": {
    "collapsed": true
   },
   "outputs": [],
   "source": [
    "def parse_args():\n",
    "    parser = argparse.ArgumentParser(\n",
    "        formatter_class=argparse.ArgumentDefaultsHelpFormatter,\n",
    "        description='Create an image list or \\\n",
    "        make a record database by reading from an image list')\n",
    "    parser.add_argument('prefix', help='prefix of input/output lst and rec files.')\n",
    "    parser.add_argument('root', help='path to folder containing images.')\n",
    "\n",
    "    cgroup = parser.add_argument_group('Options for creating image lists')\n",
    "    cgroup.add_argument('--list', type=bool, default=False,\n",
    "                        help='If this is set im2rec will create image list(s) by traversing root folder\\\n",
    "        and output to <prefix>.lst.\\\n",
    "        Otherwise im2rec will read <prefix>.lst and create a database at <prefix>.rec')\n",
    "    cgroup.add_argument('--exts', type=list, default=['.jpeg', '.jpg'],\n",
    "                        help='list of acceptable image extensions.')\n",
    "    cgroup.add_argument('--chunks', type=int, default=1, help='number of chunks.')\n",
    "    cgroup.add_argument('--train-ratio', type=float, default=1.0,\n",
    "                        help='Ratio of images to use for training.')\n",
    "    cgroup.add_argument('--test-ratio', type=float, default=0,\n",
    "                        help='Ratio of images to use for testing.')\n",
    "    cgroup.add_argument('--recursive', type=bool, default=False,\n",
    "                        help='If true recursively walk through subdirs and assign an unique label\\\n",
    "        to images in each folder. Otherwise only include images in the root folder\\\n",
    "        and give them label 0.')\n",
    "\n",
    "    rgroup = parser.add_argument_group('Options for creating database')\n",
    "    rgroup.add_argument('--resize', type=int, default=0,\n",
    "                        help='resize the shorter edge of image to the newsize, original images will\\\n",
    "        be packed by default.')\n",
    "    rgroup.add_argument('--center-crop', type=bool, default=False,\n",
    "                        help='specify whether to crop the center image to make it rectangular.')\n",
    "    rgroup.add_argument('--quality', type=int, default=80,\n",
    "                        help='JPEG quality for encoding, 1-100; or PNG compression for encoding, 1-9')\n",
    "    rgroup.add_argument('--num-thread', type=int, default=1,\n",
    "                        help='number of thread to use for encoding. order of images will be different\\\n",
    "        from the input list if >1. the input list will be modified to match the\\\n",
    "        resulting order.')\n",
    "    rgroup.add_argument('--color', type=int, default=1, choices=[-1, 0, 1],\n",
    "                        help='specify the color mode of the loaded image.\\\n",
    "        1: Loads a color image. Any transparency of image will be neglected. It is the default flag.\\\n",
    "        0: Loads image in grayscale mode.\\\n",
    "        -1:Loads image as such including alpha channel.')\n",
    "    rgroup.add_argument('--encoding', type=str, default='.jpg', choices=['.jpg', '.png'],\n",
    "                        help='specify the encoding of the images.')\n",
    "    rgroup.add_argument('--shuffle', default=True, help='If this is set as True, \\\n",
    "        im2rec will randomize the image order in <prefix>.lst')\n",
    "    rgroup.add_argument('--pack-label', default=False,\n",
    "        help='Whether to also pack multi dimensional label in the record file') \n",
    "    args = parser.parse_args()\n",
    "    args.prefix = os.path.abspath(args.prefix)\n",
    "    args.root = os.path.abspath(args.root)\n",
    "    return args"
   ]
  },
  {
   "cell_type": "code",
   "execution_count": null,
   "metadata": {
    "collapsed": true
   },
   "outputs": [],
   "source": [
    "if __name__ == '__main__':\n",
    "    args = parse_args()\n",
    "    if args.list:\n",
    "        make_list(args)\n",
    "    else:\n",
    "        if os.path.isdir(args.prefix):\n",
    "            working_dir = args.prefix\n",
    "        else:\n",
    "            working_dir = os.path.dirname(args.prefix)\n",
    "        files = [os.path.join(working_dir, fname) for fname in os.listdir(working_dir)\n",
    "                    if os.path.isfile(os.path.join(working_dir, fname))]\n",
    "        count = 0\n",
    "        for fname in files:\n",
    "            if fname.startswith(args.prefix) and fname.endswith('.lst'):\n",
    "                print('Creating .rec file from', fname, 'in', working_dir)\n",
    "                count += 1\n",
    "                image_list = read_list(fname)\n",
    "                # -- write_record -- #\n",
    "                try:\n",
    "                    import multiprocessing\n",
    "                    q_in = [multiprocessing.Queue(1024) for i in range(args.num_thread)]\n",
    "                    q_out = multiprocessing.Queue(1024)\n",
    "                    read_process = [multiprocessing.Process(target=read_worker, args=(args, q_in[i], q_out)) \\\n",
    "                                    for i in range(args.num_thread)]\n",
    "                    for p in read_process:\n",
    "                        p.start()\n",
    "                    write_process = multiprocessing.Process(target=write_worker, args=(q_out, fname, working_dir))\n",
    "                    write_process.start()\n",
    "\n",
    "                    for i, item in enumerate(image_list):\n",
    "                        q_in[i % len(q_in)].put(item)\n",
    "                    for q in q_in:\n",
    "                        q.put(None)\n",
    "                    for p in read_process:\n",
    "                        p.join()\n",
    "\n",
    "                    q_out.put(None)\n",
    "                    write_process.join()\n",
    "                except ImportError:\n",
    "                    print('multiprocessing not available, fall back to single threaded encoding')\n",
    "                    import Queue\n",
    "                    q_out = Queue.Queue()\n",
    "                    fname_rec = os.path.basename(fname)\n",
    "                    fname_rec = os.path.splitext(fname)[0] + '.rec'\n",
    "                    record = mx.recordio.MXRecordIO(os.path.join(working_dir, fname_rec), 'w')\n",
    "                    cnt = 0\n",
    "                    pre_time = time.time()\n",
    "                    for item in image_list:\n",
    "                        image_encode(args, item, q_out)\n",
    "                        if q_out.empty():\n",
    "                            continue\n",
    "                        _, s, _ = q_out.get()\n",
    "                        record.write(s)\n",
    "                        if cnt % 1000 == 0:\n",
    "                            cur_time = time.time()\n",
    "                            print('time:', cur_time - pre_time, ' count:', cnt)\n",
    "                            pre_time = cur_time\n",
    "                        cnt += 1\n",
    "        if not count:\n",
    "print('Did not find and list file with prefix %s'%args.prefix)"
   ]
  },
  {
   "cell_type": "code",
   "execution_count": null,
   "metadata": {
    "collapsed": true
   },
   "outputs": [],
   "source": []
  }
 ],
 "metadata": {
  "kernelspec": {
   "display_name": "Python [Root]",
   "language": "python",
   "name": "Python [Root]"
  },
  "language_info": {
   "codemirror_mode": {
    "name": "ipython",
    "version": 3
   },
   "file_extension": ".py",
   "mimetype": "text/x-python",
   "name": "python",
   "nbconvert_exporter": "python",
   "pygments_lexer": "ipython3",
   "version": "3.5.2"
  }
 },
 "nbformat": 4,
 "nbformat_minor": 0
}
