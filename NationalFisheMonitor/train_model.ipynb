{
 "cells": [
  {
   "cell_type": "code",
   "execution_count": 1,
   "metadata": {
    "collapsed": false
   },
   "outputs": [
    {
     "ename": "ImportError",
     "evalue": "No module named mxnet",
     "output_type": "error",
     "traceback": [
      "\u001b[0;31m---------------------------------------------------------------------------\u001b[0m",
      "\u001b[0;31mImportError\u001b[0m                               Traceback (most recent call last)",
      "\u001b[0;32m<ipython-input-1-8272183d31b0>\u001b[0m in \u001b[0;36m<module>\u001b[0;34m()\u001b[0m\n\u001b[1;32m      1\u001b[0m \u001b[1;32mimport\u001b[0m \u001b[0mos\u001b[0m\u001b[1;33m\u001b[0m\u001b[0m\n\u001b[0;32m----> 2\u001b[0;31m \u001b[1;32mimport\u001b[0m \u001b[0mmxnet\u001b[0m \u001b[1;32mas\u001b[0m \u001b[0mmx\u001b[0m\u001b[1;33m\u001b[0m\u001b[0m\n\u001b[0m\u001b[1;32m      3\u001b[0m \u001b[1;32mimport\u001b[0m \u001b[0mpandas\u001b[0m \u001b[1;32mas\u001b[0m \u001b[0mpd\u001b[0m\u001b[1;33m\u001b[0m\u001b[0m\n\u001b[1;32m      4\u001b[0m \u001b[1;32mimport\u001b[0m \u001b[0mcv2\u001b[0m\u001b[1;33m\u001b[0m\u001b[0m\n\u001b[1;32m      5\u001b[0m \u001b[1;32mimport\u001b[0m \u001b[0mnumpy\u001b[0m \u001b[1;32mas\u001b[0m \u001b[0mnp\u001b[0m\u001b[1;33m\u001b[0m\u001b[0m\n",
      "\u001b[0;31mImportError\u001b[0m: No module named mxnet"
     ]
    }
   ],
   "source": [
    "import os\n",
    "import mxnet as mx\n",
    "import pandas as pd\n",
    "import cv2\n",
    "import numpy as np\n",
    "import lightgbm as lgb"
   ]
  },
  {
   "cell_type": "code",
   "execution_count": null,
   "metadata": {
    "collapsed": false
   },
   "outputs": [],
   "source": [
    "curpath = \"E:/train/\"\n",
    "os.chdir(curpath)"
   ]
  },
  {
   "cell_type": "code",
   "execution_count": null,
   "metadata": {
    "collapsed": false
   },
   "outputs": [],
   "source": [
    "img_lst = pd.read_csv('./model_train.lst', sep = '\\t', header = None, names =('imgrank','type','path'))"
   ]
  },
  {
   "cell_type": "code",
   "execution_count": null,
   "metadata": {
    "collapsed": false
   },
   "outputs": [],
   "source": [
    "img_lst.shape[0]"
   ]
  },
  {
   "cell_type": "code",
   "execution_count": null,
   "metadata": {
    "collapsed": true
   },
   "outputs": [],
   "source": [
    "def get_image(filename):\n",
    "    img = cv2.imread(filename)\n",
    "    img = cv2.cvtColor(img, cv2.COLOR_BGR2RGB)  # change bgr to rgb\n",
    "    img = cv2.resize(img, (224,224))\n",
    "    img = np.swapaxes(img, 0, 2)\n",
    "    img = np.swapaxes(img, 1, 2)\n",
    "    img = img[np.newaxis, :]  # change to example,channel,width,height\n",
    "    return img"
   ]
  },
  {
   "cell_type": "code",
   "execution_count": null,
   "metadata": {
    "collapsed": false
   },
   "outputs": [],
   "source": [
    "# 提取中间层的输出进行训练模型；\n",
    "def feature_extract(prefix, epoch):\n",
    "    sym, arg_params, aux_params = mx.model.load_checkpoint(prefix, epoch)\n",
    "    internals = sym.get_internals()\n",
    "    fea_symbol = internals[\"fc1_output\"]\n",
    "    return(fea_symbol, arg_params, aux_params)"
   ]
  },
  {
   "cell_type": "code",
   "execution_count": null,
   "metadata": {
    "collapsed": true
   },
   "outputs": [],
   "source": [
    "fea_model, arg_params, aux_params = feature_extract('D:/gitcode/DataScience/Python/python-mxnet-notebook/how_to/resnet-50',0)"
   ]
  },
  {
   "cell_type": "code",
   "execution_count": null,
   "metadata": {
    "collapsed": false
   },
   "outputs": [],
   "source": [
    "# reset model\n",
    "mod =mx.mod.Module(symbol=fea_model, context=mx.cpu())\n",
    "mod.bind(for_training = False, data_shapes = [('data',(1,3,224,224))])  # should set the same with before\n",
    "mod.set_params(arg_params, aux_params)"
   ]
  },
  {
   "cell_type": "code",
   "execution_count": null,
   "metadata": {
    "collapsed": false,
    "scrolled": true
   },
   "outputs": [],
   "source": [
    "# define model \n",
    "from collections import namedtuple\n",
    "Batch = namedtuple('Batch', ['data'])"
   ]
  },
  {
   "cell_type": "code",
   "execution_count": null,
   "metadata": {
    "collapsed": false,
    "scrolled": true
   },
   "outputs": [],
   "source": [
    "len(img_lst)\n",
    "i=1\n",
    "curpath+img_lst['path'][i]\n",
    "img = get_image(curpath+img_lst['path'][i])\n",
    "img.shape"
   ]
  },
  {
   "cell_type": "code",
   "execution_count": null,
   "metadata": {
    "collapsed": true
   },
   "outputs": [],
   "source": [
    "# 获取训练结合的结果\n",
    "result = np.zeros((len(img_lst), 1000))\n",
    "for i in range(1,len(img_lst)):\n",
    "    print(curpath+img_lst['path'][i])\n",
    "    img = get_image(curpath+img_lst['path'][i])\n",
    "    mod.forward(Batch([mx.nd.array(img)]))\n",
    "    result[i,:] = mod.get_outputs()[0].asnumpy()"
   ]
  },
  {
   "cell_type": "code",
   "execution_count": null,
   "metadata": {
    "collapsed": false
   },
   "outputs": [],
   "source": [
    "# train model ,x= result, y =img_lst['type]\n",
    "# import sklearn \n",
    "# import xgboost as xgb"
   ]
  },
  {
   "cell_type": "code",
   "execution_count": null,
   "metadata": {
    "collapsed": true
   },
   "outputs": [],
   "source": [
    "# 获取测试集合\n",
    "img_test = pd.read_csv('./model_test.lst', sep = '\\t', header = None, names =('imgrank','type','path'))\n",
    "testresult = np.zeros((len(img_test),1000))\n",
    "for i in range(1,len(img_test)):\n",
    "    print(\"num_%i:%s\" %(i,curpath+img_test['path'][i]))\n",
    "    img = get_image(curpath+img_test['path'][i])\n",
    "    mod.forward(Batch([mx.nd.array(img)]))\n",
    "    testresult[i,:] = mod.get_outputs()[0].asnumpy()"
   ]
  },
  {
   "cell_type": "code",
   "execution_count": 13,
   "metadata": {
    "collapsed": false
   },
   "outputs": [],
   "source": [
    "from sklearn import svm"
   ]
  },
  {
   "cell_type": "code",
   "execution_count": 14,
   "metadata": {
    "collapsed": false
   },
   "outputs": [
    {
     "ename": "NameError",
     "evalue": "name 'testresult' is not defined",
     "output_type": "error",
     "traceback": [
      "\u001b[0;31m---------------------------------------------------------------------------\u001b[0m",
      "\u001b[0;31mNameError\u001b[0m                                 Traceback (most recent call last)",
      "\u001b[0;32m<ipython-input-14-4f230a31121f>\u001b[0m in \u001b[0;36m<module>\u001b[0;34m()\u001b[0m\n\u001b[1;32m      1\u001b[0m \u001b[0mx_train\u001b[0m \u001b[1;33m=\u001b[0m \u001b[0mresult\u001b[0m\u001b[1;33m\u001b[0m\u001b[0m\n\u001b[1;32m      2\u001b[0m \u001b[0my_train\u001b[0m \u001b[1;33m=\u001b[0m \u001b[0mimg_lst\u001b[0m\u001b[1;33m[\u001b[0m\u001b[1;34m'type'\u001b[0m\u001b[1;33m]\u001b[0m\u001b[1;33m\u001b[0m\u001b[0m\n\u001b[0;32m----> 3\u001b[0;31m \u001b[0mx_test\u001b[0m \u001b[1;33m=\u001b[0m \u001b[0mtestresult\u001b[0m\u001b[1;33m\u001b[0m\u001b[0m\n\u001b[0m",
      "\u001b[0;31mNameError\u001b[0m: name 'testresult' is not defined"
     ]
    }
   ],
   "source": [
    "x_train = result\n",
    "y_train = img_lst['type']\n",
    "x_test = testresult"
   ]
  },
  {
   "cell_type": "code",
   "execution_count": null,
   "metadata": {
    "collapsed": false
   },
   "outputs": [],
   "source": [
    "clf = svm.SVC(C=10, kernel='rbf', degree=3, coef0=0.0, shrinking=True, probability=True, tol=0.001, cache_size=200, \n",
    "                  class_weight=None, verbose=False, max_iter=-1, random_state=None)\n",
    "clf.fit(x_train, y_train)"
   ]
  },
  {
   "cell_type": "code",
   "execution_count": null,
   "metadata": {
    "collapsed": false
   },
   "outputs": [],
   "source": [
    "# randomforest\n",
    "from sklearn.ensemble import RandomForestClassifier\n",
    "for i in range(10,300,10):\n",
    "    rf = RandomForestClassifier(max_depth=5, n_estimators=i)\n",
    "    rf.fit(x_train, y_train)\n",
    "    ypred_rf = rf.predict(x_test)\n",
    "    predict_temp = np.array(img_test['type']) - np.array(ypred_rf)\n",
    "    count_num = np.count_nonzero(predict_temp)\n",
    "    accuracy_rf = (len(predict_temp)-count_num)*1.0 / (len(predict_temp))\n",
    "    print ('the accuracy of RandomForest in n_estimators  %i is %.4f' %(i,accuracy_rf))"
   ]
  },
  {
   "cell_type": "code",
   "execution_count": null,
   "metadata": {
    "collapsed": false
   },
   "outputs": [],
   "source": [
    "# ET\n",
    "from sklearn.ensemble import ExtraTreesClassifier\n",
    "for i in range(10,300,10):\n",
    "    forest = ExtraTreesClassifier(n_estimators=i)\n",
    "    forest.fit(x_train, y_train)\n",
    "    ypred_rf = forest.predict(x_test)\n",
    "    predict_temp = np.array(img_test['type']) - np.array(ypred_rf)\n",
    "    count_num = np.count_nonzero(predict_temp)\n",
    "    accuracy_rf = (len(predict_temp)-count_num)*1.0 / (len(predict_temp))\n",
    "    print ('the accuracy of ExtraTreesClassifier in n_estimators  %i is %.4f' %(i,accuracy_rf))"
   ]
  },
  {
   "cell_type": "code",
   "execution_count": null,
   "metadata": {
    "collapsed": false,
    "scrolled": true
   },
   "outputs": [],
   "source": [
    "importance = forest.feature_importances_\n",
    "importance"
   ]
  },
  {
   "cell_type": "code",
   "execution_count": null,
   "metadata": {
    "collapsed": false
   },
   "outputs": [],
   "source": [
    "# GBDT\n",
    "from sklearn.ensemble import GradientBoostingClassifier\n",
    "for i in range(10,300,10):\n",
    "    gbdt = GradientBoostingClassifier(learning_rate=0.05, subsample=0.7, max_depth=6, n_estimators=i)\n",
    "    gbdt.fit(x_train, y_train)\n",
    "    ypred_rf = gbdt.predict(x_test)\n",
    "    predict_temp = np.array(img_test['type']) - np.array(ypred_rf)\n",
    "    count_num = np.count_nonzero(predict_temp)\n",
    "    accuracy_rf = (len(predict_temp)-count_num)*1.0 / (len(predict_temp))\n",
    "    print ('the accuracy of GradientBoostingClassifier in n_estimators  %i is %.4f' %(i,accuracy_rf))"
   ]
  },
  {
   "cell_type": "code",
   "execution_count": null,
   "metadata": {
    "collapsed": false
   },
   "outputs": [],
   "source": [
    "ypred_rf[1:100]"
   ]
  },
  {
   "cell_type": "code",
   "execution_count": null,
   "metadata": {
    "collapsed": false
   },
   "outputs": [],
   "source": [
    "from sklearn.metrics import confusion_matrix\n",
    "y_pred = clf.predict(x_test)\n",
    "predict_temp = np.array(img_test['type']) - np.array(y_pred)\n",
    "count_num = np.count_nonzero(predict_temp)\n",
    "accuracy_svm = (len(predict_temp)-count_num) / (len(predict_temp)/1.0)\n",
    "proba_pred_svm = clf.predict_proba(x_test)\n",
    "cm_svm = confusion_matrix(img_test['type'], y_pred)\n",
    "print ('the accuracy of SVM is %.4f' %accuracy_svm)\n",
    "print(cm_svm)"
   ]
  },
  {
   "cell_type": "code",
   "execution_count": null,
   "metadata": {
    "collapsed": false
   },
   "outputs": [],
   "source": [
    "# use lightgbm\n",
    "# import lightgbm as lgb"
   ]
  }
 ],
 "metadata": {
  "anaconda-cloud": {},
  "kernelspec": {
   "display_name": "Python 2",
   "language": "python",
   "name": "python2"
  },
  "language_info": {
   "codemirror_mode": {
    "name": "ipython",
    "version": 2
   },
   "file_extension": ".py",
   "mimetype": "text/x-python",
   "name": "python",
   "nbconvert_exporter": "python",
   "pygments_lexer": "ipython2",
   "version": "2.7.13"
  }
 },
 "nbformat": 4,
 "nbformat_minor": 1
}
